{
 "cells": [
  {
   "cell_type": "code",
   "execution_count": 37,
   "id": "21fd04e4-af75-4cf3-966a-012f79d5c51e",
   "metadata": {},
   "outputs": [],
   "source": [
    "def fibonacci(x):\n",
    "        sequence = []\n",
    "        a,b = 0,1\n",
    "        for num in range(0,x):\n",
    "            sequence.append(a)\n",
    "            a,b = b,a+b\n",
    "        return sequence"
   ]
  },
  {
   "cell_type": "code",
   "execution_count": 38,
   "id": "a5d02764-8fe8-4384-852f-7cf735ae841b",
   "metadata": {},
   "outputs": [
    {
     "name": "stdout",
     "output_type": "stream",
     "text": [
      "2\n"
     ]
    }
   ],
   "source": [
    "def fib_sum(x):\n",
    "    sequence = fibonacci(x)\n",
    "    even_terms = (term for term in sequence if term % 2 == 0)\n",
    "    return sum(even_terms)\n",
    "x = 4 # Change this to set desired range\n",
    "sum_result = fib_sum(x)\n",
    "print(sum_result)"
   ]
  },
  {
   "cell_type": "code",
   "execution_count": 39,
   "id": "964c63f5-17cc-4177-8595-db78efaa09b6",
   "metadata": {},
   "outputs": [
    {
     "name": "stdout",
     "output_type": "stream",
     "text": [
      "44\n"
     ]
    }
   ],
   "source": [
    "def fib_sum_firstx(x):\n",
    "    sequence = fibonacci(x * 3) #The Fibonacci Sequence follows the pattern \"odd, odd, even\", so this will ensure we get enough even numbers\n",
    "    even_terms = [term for term in sequence if term % 2 == 0] [:x] #Those \n",
    "    return sum(even_terms)\n",
    "x = 4 # Change this to set desired range\n",
    "sum_result = fib_sum_firstx(x)\n",
    "print(sum_result)"
   ]
  },
  {
   "cell_type": "code",
   "execution_count": null,
   "id": "a077c525-ec4f-4076-be27-dce5871c0246",
   "metadata": {},
   "outputs": [],
   "source": []
  }
 ],
 "metadata": {
  "kernelspec": {
   "display_name": "Python 3 (ipykernel)",
   "language": "python",
   "name": "python3"
  },
  "language_info": {
   "codemirror_mode": {
    "name": "ipython",
    "version": 3
   },
   "file_extension": ".py",
   "mimetype": "text/x-python",
   "name": "python",
   "nbconvert_exporter": "python",
   "pygments_lexer": "ipython3",
   "version": "3.11.6"
  }
 },
 "nbformat": 4,
 "nbformat_minor": 5
}
